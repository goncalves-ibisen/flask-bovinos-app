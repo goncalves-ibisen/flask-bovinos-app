{
 "cells": [
  {
   "cell_type": "code",
   "execution_count": 1,
   "metadata": {},
   "outputs": [],
   "source": [
    "from pyspark.sql import SparkSession\n",
    "import pyspark.sql.functions as F"
   ]
  },
  {
   "cell_type": "code",
   "execution_count": 2,
   "metadata": {},
   "outputs": [],
   "source": [
    "spark = SparkSession.Builder().appName(\"Inmet\").getOrCreate()"
   ]
  },
  {
   "cell_type": "code",
   "execution_count": 3,
   "metadata": {},
   "outputs": [],
   "source": [
    "df = spark.read.json(r\"C:\\ultragaz\\raw\\estacoes_automaticas.json\")"
   ]
  },
  {
   "cell_type": "code",
   "execution_count": 4,
   "metadata": {},
   "outputs": [
    {
     "name": "stdout",
     "output_type": "stream",
     "text": [
      "+-----------+----------+--------------+-----------+--------------------+--------------------+---------------+--------------------+----------+-----------+---------+----------+-----------+------------+------------+\n",
      "|CD_DISTRITO|CD_ESTACAO|      CD_OSCAR|CD_SITUACAO|              CD_WSI|             DC_NOME|DT_FIM_OPERACAO|  DT_INICIO_OPERACAO|FL_CAPITAL|SG_ENTIDADE|SG_ESTADO|TP_ESTACAO|VL_ALTITUDE| VL_LATITUDE|VL_LONGITUDE|\n",
      "+-----------+----------+--------------+-----------+--------------------+--------------------+---------------+--------------------+----------+-----------+---------+----------+-----------+------------+------------+\n",
      "|         04|      A422|0-2000-0-86765|       Pane|0-76-0-2906907000...|            ABROLHOS|           NULL|2008-07-20T21:00:...|         N|      INMET|       BA|Automatica|      20.93|-17.96305555|-38.70333333|\n",
      "|         03|      A360|0-2000-0-81755|   Operante|0-76-0-2300200000...|              ACARAU|           NULL|2009-04-21T21:00:...|         N|      INMET|       CE|Automatica|      67.15|  -3.1211111|-40.08722221|\n",
      "|         06|      A657|0-2000-0-86827|   Operante|0-76-0-3200102000...|      AFONSO CLAUDIO|           NULL|2011-09-23T21:00:...|      NULL|      INMET|       ES|Automatica|     507.48|-20.10416666|-41.10694444|\n",
      "|         09|      A908|0-2000-0-86686|   Operante|0-76-0-5100201000...|            AGUA BOA|           NULL|2006-12-15T21:00:...|         N|      INMET|       MT|Automatica|        440|-14.01638888|-52.21166666|\n",
      "|         07|      A756|0-2000-0-86812|   Operante|0-76-0-5000203000...|          AGUA CLARA|           NULL|2010-08-13T21:00:...|         N|      INMET|       MS|Automatica|     323.63|-20.44444444|-52.87583332|\n",
      "|         10|      A045|0-2000-0-86716|   Operante|0-76-0-5300108000...|     AGUAS EMENDADAS|           NULL|2008-10-02T21:00:...|      NULL|      INMET|       DF|Automatica|    1030.36|  -15.596491|  -47.625801|\n",
      "|         05|      A549|0-2000-0-86722|   Operante|0-76-0-3101003000...|     AGUAS VERMELHAS|           NULL|2007-09-08T21:00:...|         N|      INMET|       MG|Automatica|     754.07|-15.75166666|-41.45777777|\n",
      "|         05|      A534|0-2000-0-86803|   Operante|0-76-0-3101102000...|             AIMORES|           NULL|2007-08-04T21:00:...|         N|      INMET|       MG|Automatica|        301|-19.53277777|-41.09083333|\n",
      "|         06|      A617|0-2000-0-86828|   Operante|0-76-0-3200201000...|              ALEGRE|           NULL|2006-10-24T21:00:...|         N|      INMET|       ES|Automatica|        138|-20.75055555|-41.48888888|\n",
      "|         08|      A826|0-2000-0-86975|   Operante|0-76-0-4300406000...|            ALEGRETE|           NULL|2006-09-27T21:00:...|         N|      INMET|       RS|Automatica|     120.88|-29.70916666|-55.52555554|\n",
      "|         06|      A615|0-2000-0-86829|   Operante|0-76-0-3200300000...|      ALFREDO CHAVES|           NULL|2006-11-02T21:00:...|         N|      INMET|       ES|Automatica|      14.19|-20.63638888|-40.74194444|\n",
      "|         10|      A053|0-2000-0-86627|   Operante|0-76-0-1700400000...|               ALMAS|           NULL|2016-03-31T21:00:...|         N|      INMET|       TO|Automatica|        503|-11.28416666|-47.21222222|\n",
      "|         05|      A508|0-2000-0-86743|   Operante|0-76-0-3101706000...|            ALMENARA|           NULL|2002-12-14T22:00:...|         N|      INMET|       MG|Automatica|     189.11|-16.16666666|-40.68777777|\n",
      "|         09|      A924|0-2000-0-81977|   Operante|0-76-0-5100250000...|       ALTA FLORESTA|           NULL|2007-05-22T21:00:...|         N|      INMET|       MT|Automatica|     291.85|-10.07722221|-56.17916666|\n",
      "|         02|      A253|0-2000-0-81738|   Operante|0-76-0-1500602000...|            ALTAMIRA|           NULL|2018-10-24T21:00:...|         N|      INMET|       PA|Automatica|        191| -3.26999999|-52.39472221|\n",
      "|         09|      A909|0-2000-0-86749|   Operante|0-76-0-5100300000...|       ALTO ARAGUAIA|           NULL|2011-09-21T21:00:...|         N|      INMET|       MT|Automatica|     753.28|-17.33944444|-53.22444443|\n",
      "|         10|      A024|0-2000-0-86691|   Operante|0-76-0-5200605000...|ALTO PARAISO DE G...|           NULL|2007-06-03T21:00:...|         N|      INMET|       GO|Automatica|     1264.7|-14.13305554|-47.52333332|\n",
      "|         02|      A223|0-2000-0-81985|   Operante|0-76-0-2100501000...|       ALTO PARNAIBA|           NULL|2008-06-02T21:00:...|         N|      INMET|       MA|Automatica|     283.69| -9.10833333|-45.93194443|\n",
      "|         09|      A934|0-2000-0-86750|   Operante|0-76-0-5100607000...|        ALTO TAQUARI|           NULL|2008-01-28T21:00:...|      NULL|      INMET|       MT|Automatica|     862.42| -17.8411111|-53.28944444|\n",
      "|         03|      A336|0-2000-0-81846|   Operante|0-76-0-2202307000...|ALVORADA DO GURGUEIA|           NULL|2007-11-16T21:00:...|         N|      INMET|       PI|Automatica|        225| -8.37638888|-43.85944444|\n",
      "+-----------+----------+--------------+-----------+--------------------+--------------------+---------------+--------------------+----------+-----------+---------+----------+-----------+------------+------------+\n",
      "only showing top 20 rows\n",
      "\n"
     ]
    }
   ],
   "source": [
    "df.show()"
   ]
  },
  {
   "cell_type": "code",
   "execution_count": 1,
   "metadata": {},
   "outputs": [
    {
     "name": "stdout",
     "output_type": "stream",
     "text": [
      "wine water\n"
     ]
    }
   ],
   "source": [
    "glass1 = \"water\"\n",
    "glass2 = \"wine\"\n",
    "glass1, glass2 = glass2, glass1\n",
    "print(glass1, glass2)"
   ]
  }
 ],
 "metadata": {
  "kernelspec": {
   "display_name": "Python 3",
   "language": "python",
   "name": "python3"
  },
  "language_info": {
   "codemirror_mode": {
    "name": "ipython",
    "version": 3
   },
   "file_extension": ".py",
   "mimetype": "text/x-python",
   "name": "python",
   "nbconvert_exporter": "python",
   "pygments_lexer": "ipython3",
   "version": "3.11.2"
  }
 },
 "nbformat": 4,
 "nbformat_minor": 2
}
